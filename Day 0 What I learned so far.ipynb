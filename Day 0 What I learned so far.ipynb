{
 "cells": [
  {
   "cell_type": "markdown",
   "metadata": {},
   "source": [
    "# What I learned so far..\n",
    "by David, July 20, 2020"
   ]
  },
  {
   "cell_type": "markdown",
   "metadata": {},
   "source": [
    "Mindset: <font color=brown>“Data Is the New Soil”</font> David McCandless’ TED talk on visualizing data"
   ]
  },
  {
   "attachments": {},
   "cell_type": "markdown",
   "metadata": {},
   "source": [
    "“Tell me and I forget,\n",
    "teach me and I remember,\n",
    "involve me and I learn.”\n",
    "-Benjamin Franklin, Xunzi "
   ]
  },
  {
   "cell_type": "markdown",
   "metadata": {},
   "source": [
    "<font color=blue>Summary:</font>\n",
    "\n",
    "><font color=green>“Face the light so the shadow will be behind you”</font>. Face the problem, yes there will be struggle and pain on learning new stuff.  Embrace it like the pain you are building a muscle or like playing a video game. At first you are not so good but with practice and patience you will be better. Persevere, have a growth mindset (remember your why did you started, who you want to be), stop, breathe, reflect if what you are doing is effective or not.  Make the necessary adjustment, experiment and apply then re-evaluate again. \n",
    "\n",
    ">We are unique so don’t compare but asked how did they did it. Maybe this can be a good starting point. The method that was advice to me is working maybe I can use this but not all. \n",
    "\n",
    "\n",
    ">One disadvantage of self-learning is that you are not challenging yourself to much and the pressure from the studying from an exam back then when you are studying. Your method should not be like studying in college. Is it more like how can I use this for this particular skill for this problem (more like skill acquisition). Chicken and egg problem. How can I apply if I don’t know what I can do? In the beginning you passive > greater active, later on passive == active, and last passive < active. Try to get a general overview on what you are learning and asked yourself why I am studying again. Ask do I need this. Even if a simple project like what you learn try to modify a little. Make sure you know the fundamentals\n",
    "\n",
    "\n",
    ">Have a curiosity mindset. What is this doing? Why is doing this? What if I do this? In the end you will be the one who will be teaching yourself. Instructors, books, online courses, YouTube and etc. are tools to your means which is your end goal is to become who you want to be. Make a system, goals are good for direction. 1.01^356 = 37.78, 0.99^365 = 0.025 small changes can make a big impact from Atomic habit. Progress is not a straight line. What you reap is what you sow. If you are a better version of yourself than yesterday it’s already a win.\n",
    "\n",
    "\n",
    ">Try to divide your problem to chunks. Sometimes it will be underwhelming especially you need to know a lot of things. The feeling of insurmountable task, maybe making it smaller can be doable and try to build a momentum. Celebrate the small victories \n",
    "    \n",
    "    \n",
    ">Knowledge is only potential power. So you have to apply it. It will be best you if apply it for a cause.\n",
    "\n",
    "Hope you learn something new with your journey cheers!"
   ]
  },
  {
   "attachments": {},
   "cell_type": "markdown",
   "metadata": {},
   "source": [
    "##  Technology is always evolving <br>\n",
    "  \n",
    "   * your 3 or more lines of code can be 1 line of code someday <br>\n",
    "   * so focus on the concept and principle behind it <br>\n",
    "   * focus on the math/statics behind the code<br>\n",
    "   \n",
    "\n"
   ]
  },
  {
   "attachments": {},
   "cell_type": "markdown",
   "metadata": {},
   "source": [
    "## Struggle\n",
    "\n",
    "   * lot of struggle during the start or learning something new\n",
    "   * Pain is involved like building a muscle\n",
    "   * got to be smart and efficient with your time\n",
    "   * remember your why and who you want to be\n",
    "   * if everything is easy people will do it\n",
    "   * our human instinct leads us to the less resistance\n",
    "   * are instinct of fear because something new we are not dealing with Saber-toothed tiger but just a problem that has a solution\n",
    "   * if there is a solution why worry\n",
    "\n"
   ]
  },
  {
   "cell_type": "markdown",
   "metadata": {},
   "source": [
    "## Focus\n",
    "* lots of distractions out there like in the web, social media, responsibilities\n",
    "* learn how to sit down in a very long time\n",
    "* Panadora technique \n",
    "* concept than code\n",
    "* Have to seat for a long time \n"
   ]
  },
  {
   "cell_type": "markdown",
   "metadata": {},
   "source": [
    "## Chicken vs Egg\n",
    "* How can I apply if I don’t know what I can do?"
   ]
  },
  {
   "cell_type": "markdown",
   "metadata": {},
   "source": [
    "## The way\n",
    "\n",
    "* try to teach it to a normal person, technical and businessman\n",
    "* Don't study like you were in college\n",
    "* skill/tool base\n",
    "* zoom out and zoom in, Inwards to outwards\n",
    "* <font color=green>\"I don't know everything but I know where to find it\" </font>\n",
    "* Goal are good for direction\n",
    "* <font color=blue>\"We are all beginner at some point and begin again\"</font>\n",
    "* You will be the one who will teach yourself\n",
    "\n",
    "\n",
    "| Beginner (Novice) | Journeyman | Expert |\n",
    "| --- | --- | --- |\n",
    "|  Passive > Active  | Passive = Active | Passive < Active |\n",
    "\n",
    "Passive: Books, YouTube, videos, online courses <br>\n",
    "Active: Practice, code along, projects,\n",
    "\n",
    "* everyone is unique so find your system\n",
    "    \n",
    "\t* Ask someone how they did they do it, try it, reflect if it's working or not\n",
    "\t* Find your style\n",
    "\t* reflect make necessary adjustment\n",
    "\t* apply\n",
    "\t* try to push yourself\n",
    "\t* Pain \n",
    "\t* Evaluate\n",
    "\n",
    "\n",
    "* smart and prideful people sometimes can't take that they are wrong/fail or afraid to try because of the fear of being wrong. For sure you will mess up it's ok that is where you learn. Nice thing about is that feedback is clear make time to correct it  and learn from it\n",
    "* Learn how to read the documentation\n",
    "* Some of the online course just come from books or documentation\n",
    "\n",
    "\n",
    "\n",
    "\n",
    "\n",
    "    "
   ]
  },
  {
   "cell_type": "markdown",
   "metadata": {},
   "source": [
    "### Curiosity\n",
    "\n",
    "* What is this doing? \n",
    "* Why is doing this? \n",
    "* What if I do this? \n",
    "* Don’t worry to break your computer\n"
   ]
  },
  {
   "cell_type": "markdown",
   "metadata": {},
   "source": [
    "##  Mentor\n",
    "* Look for a good mentor if possible successful person on the field\n",
    "\n"
   ]
  },
  {
   "cell_type": "markdown",
   "metadata": {},
   "source": [
    "## Be shameless but polite\n",
    "\n",
    "* so what if you don't know it YET, the buzz words and so on..\n",
    "* don't be discourage with other smart a** people\n",
    "* ask question, ask for help you don't know how many want to help you\n",
    "* if you try there is hope but if you don't you will be default\n",
    "* Nothing wrong trying at least there's hope\n",
    "* make your opportunities \n",
    "* fortune favors the brave\n",
    "* your don't know know how people want to help\n",
    "\n"
   ]
  },
  {
   "cell_type": "markdown",
   "metadata": {},
   "source": [
    "## Work as a team\n",
    "\n",
    "\n",
    "* goal is not to be the best in the team but working together solving problems\n",
    "* make sacrifices\n",
    "* listen first before you speak\n",
    "* everyone has their own strengths and weakness. Knowing it will be beneficial and try to compliment each other\n",
    "* Know when to nudge and step back\n",
    "* your objective is greater than one individual glory\n",
    "\n"
   ]
  },
  {
   "cell_type": "markdown",
   "metadata": {},
   "source": [
    "## Practice, practice, practice\n",
    "* Don't memorize\n",
    "* try to understand\n",
    "\n"
   ]
  },
  {
   "cell_type": "markdown",
   "metadata": {},
   "source": [
    "## Ask yourself\n",
    "\n",
    "* What's the concept\n",
    "* Why it's doing this\n",
    "* If I do this what will happen\n",
    "\n"
   ]
  },
  {
   "cell_type": "markdown",
   "metadata": {},
   "source": [
    "## Accuracy, price, time\n",
    "* Triangle, most of the time you only have two"
   ]
  },
  {
   "cell_type": "markdown",
   "metadata": {},
   "source": [
    "## Start small\n",
    "\n",
    "* if you can implement it then it you also do it in a bigger scale"
   ]
  },
  {
   "cell_type": "markdown",
   "metadata": {},
   "source": [
    "## Writing your code\n",
    "* try to make it work first then beautify it later\n"
   ]
  },
  {
   "cell_type": "markdown",
   "metadata": {},
   "source": [
    "## Problem Solving\n",
    "\n",
    "* Be a programmer not a coder. Problem solve first (think) before you code. It's not like in the movies\n",
    "* step by step process\n",
    "\n"
   ]
  },
  {
   "cell_type": "markdown",
   "metadata": {},
   "source": [
    "## Technical \n",
    "\n",
    "\n",
    "* Know your tools well\n",
    "* Check the version of your libraries, documentation, etc\n",
    "* how to install\n",
    "* upgrade stuff \n",
    "* Use # not only for you but other people will understand\n",
    "* Use shift tabs\n",
    "* What type of data is it use type (object, int, float), (series, dataframe) etc\n",
    "* Get familiarize with the errors it will save you time"
   ]
  },
  {
   "cell_type": "markdown",
   "metadata": {},
   "source": [
    "## Make your own snippet \n",
    "\n",
    "* cheat sheet \n",
    "* as reference so you can go back\n"
   ]
  },
  {
   "cell_type": "markdown",
   "metadata": {},
   "source": [
    "## You don't need to use learning machine everytime\n",
    "\n",
    "* use excel, power BI, others tool to help you add value\n",
    "* simple than try to complex (if you have time and can afford it)\n",
    "* any technique that will help you is already a big +"
   ]
  },
  {
   "cell_type": "markdown",
   "metadata": {},
   "source": [
    "## Be grateful\n",
    "* for your small victories\n",
    "* everyday you have chance to be better"
   ]
  },
  {
   "cell_type": "markdown",
   "metadata": {},
   "source": [
    "## Pray\n"
   ]
  }
 ],
 "metadata": {
  "kernelspec": {
   "display_name": "Python 3",
   "language": "python",
   "name": "python3"
  },
  "language_info": {
   "codemirror_mode": {
    "name": "ipython",
    "version": 3
   },
   "file_extension": ".py",
   "mimetype": "text/x-python",
   "name": "python",
   "nbconvert_exporter": "python",
   "pygments_lexer": "ipython3",
   "version": "3.7.7"
  },
  "toc": {
   "base_numbering": 1,
   "nav_menu": {},
   "number_sections": true,
   "sideBar": true,
   "skip_h1_title": false,
   "title_cell": "Table of Contents",
   "title_sidebar": "Contents",
   "toc_cell": false,
   "toc_position": {},
   "toc_section_display": true,
   "toc_window_display": false
  }
 },
 "nbformat": 4,
 "nbformat_minor": 4
}
